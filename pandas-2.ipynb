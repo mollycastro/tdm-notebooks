{
 "cells": [
  {
   "cell_type": "markdown",
   "id": "f9988915",
   "metadata": {},
   "source": [
    "<img align=\"left\" src=\"https://ithaka-labs.s3.amazonaws.com/static-files/images/tdm/tdmdocs/CC_BY.png\"><br />\n",
    "\n",
    "Created by [Nathan Kelber](http://nkelber.com) under [Creative Commons CC BY License](https://creativecommons.org/licenses/by/4.0/)<br />\n",
    "For questions/comments/improvements, email nathan.kelber@ithaka.org.<br />\n",
    "___"
   ]
  },
  {
   "cell_type": "markdown",
   "id": "b256a210",
   "metadata": {},
   "source": [
    "# Pandas 2\n",
    "\n",
    "**Description:** This notebook describes how to:\n",
    "* Create a Pandas DataFrame\n",
    "* Accessing data rows, columns, elements using `.loc` and `.iloc`\n",
    "* Create filters using boolean operators\n",
    "* Changing data in the DataFrame\n",
    "\n",
    "This is the second notebook in a series on learning to use Pandas. \n",
    "\n",
    "**Use Case:** For Learners (Detailed explanation, not ideal for researchers)\n",
    "\n",
    "**Difficulty:** Intermediate\n",
    "\n",
    "**Knowledge Required:** \n",
    "* [Pandas 1](./pandas-1.ipynb)\n",
    "* Python Basics ([Start Python Basics I](./python-basics-1.ipynb))\n",
    "\n",
    "**Knowledge Recommended:** \n",
    "* [Working with Dataset Files](./working-with-dataset-files.ipynb)\n",
    "\n",
    "**Completion Time:** 75 minutes\n",
    "\n",
    "**Data Format:** CSV (.csv)\n",
    "\n",
    "**Libraries Used:** Pandas\n",
    "\n",
    "**Research Pipeline:** None\n",
    "___\n"
   ]
  },
  {
   "cell_type": "code",
   "execution_count": null,
   "id": "d2b57f15-7313-45bf-9bb2-e32a60856f34",
   "metadata": {
    "scrolled": true
   },
   "outputs": [],
   "source": [
    "### Download Sample Files for this Lesson\n",
    "import urllib.request\n",
    "download_urls = [\n",
    "    'https://ithaka-labs.s3.amazonaws.com/static-files/images/tdm/tdmdocs/sample2.csv'\n",
    "]\n",
    "\n",
    "for url in download_urls:\n",
    "    urllib.request.urlretrieve(url, './data/' + url.rsplit('/', 1)[-1])\n",
    "print('Samples files retrieved.')"
   ]
  },
  {
   "cell_type": "markdown",
   "id": "fd9fbff0-6c49-453b-8437-ad06a401a3e0",
   "metadata": {},
   "source": [
    "## Pandas DataFrames\n",
    "\n",
    "If a Series represents a column of data, a DataFrame represents a full table composed of multiple columns together. DataFrames can contain thousands or millions of rows and columns. When working with DataFrames, we are usually using a dataset that has been compiled by someone else. Often the data will be in the form of a CSV or Excel file. \n",
    "\n",
    "We can convert the data in a .csv file to a Pandas DataFrame using the `.read_csv()` method. We pass in the location of the .csv file. Additionally, we can supply an index column name with `index_col`.\n",
    "\n",
    "Use the `**File > Open**` menu above to navigate to the `sample2.csv` in the `/data` folder. Preview its structure before we load it into a dataframe."
   ]
  },
  {
   "cell_type": "code",
   "execution_count": null,
   "id": "b2cd10c7-9f56-46d5-bd60-be05842df9b2",
   "metadata": {
    "scrolled": true
   },
   "outputs": [],
   "source": [
    "import pandas as pd\n",
    "\n",
    "# Create a DataFrame `df` from the CSV file 'sample2.csv'\n",
    "df = pd.read_csv('data/sample2.csv', index_col='Username')"
   ]
  },
  {
   "cell_type": "markdown",
   "id": "dcdc8a70-3aba-4682-95ad-136cf507f7e6",
   "metadata": {},
   "source": [
    "By convention, a dataframe variable is called `df` but we could give it any valid Python variable name."
   ]
  },
  {
   "cell_type": "markdown",
   "id": "fd81fd98-ab6c-43ee-908a-939519aa97f0",
   "metadata": {},
   "source": [
    "### Exploring DataFrame Contents\n",
    "Now that we have a DataFrame called `df`, we need to learn a little more about its contents. The first step is usually to explore the DataFrame's attributes. Attributes are properties of the dataset (not functions), so they do not have parentheses `()` after them. \n",
    "\n",
    "|Attribute|Reveals|\n",
    "|---|---|\n",
    "|.shape| The number of rows and columns|\n",
    "|.info| The shape plus the first and last 5 rows|\n",
    "|.columns| The name of each column|"
   ]
  },
  {
   "cell_type": "code",
   "execution_count": null,
   "id": "9401b450-0297-4284-8fa0-e9c1dc69b0f1",
   "metadata": {
    "scrolled": true
   },
   "outputs": [],
   "source": [
    "# Use `.shape` to find rows and columns in the DataFrame\n",
    "df.shape"
   ]
  },
  {
   "cell_type": "code",
   "execution_count": null,
   "id": "45419e02-c12c-4f79-8afa-fd953ec153f1",
   "metadata": {
    "scrolled": true
   },
   "outputs": [],
   "source": [
    "# Use `.info` to find the shape plus the first and last five rows of the DataFrame"
   ]
  },
  {
   "cell_type": "code",
   "execution_count": null,
   "id": "ff93edea-d22c-48a6-894b-4667b3135450",
   "metadata": {
    "scrolled": true
   },
   "outputs": [],
   "source": [
    "# Use `.columns` to find the name of each column (if they are named)"
   ]
  },
  {
   "cell_type": "markdown",
   "id": "0ceeb0bd-c311-47ab-94c2-27f1c67d0c1d",
   "metadata": {},
   "source": [
    "We can use `.index` attribute to discover the name for each row in our DataFrame. We set the index column (`index_col=`) to `Username`, but `Identifier` might also make sense with this data. If no column is chosen, a numeric index is created starting at 0."
   ]
  },
  {
   "cell_type": "code",
   "execution_count": null,
   "id": "3ac988bc-d10b-4c3b-ae2e-57d356871bb9",
   "metadata": {
    "scrolled": true
   },
   "outputs": [],
   "source": [
    "# Use `.index` to list the rows of our DataFrame\n",
    "df.index"
   ]
  },
  {
   "cell_type": "markdown",
   "id": "38193009-da9b-4f93-ba0a-88087d3afbbf",
   "metadata": {},
   "source": [
    "### Preview with `.head()` and `.tail()`\n",
    "We can also use the `.head()` and `.tail()` methods to get a preview of our DataFrame."
   ]
  },
  {
   "cell_type": "code",
   "execution_count": null,
   "id": "48437a39-fd51-4e15-89e6-a6f37d7eb30f",
   "metadata": {
    "scrolled": true
   },
   "outputs": [],
   "source": [
    "# Use `.head()` to see the first five lines\n",
    "# Pass an integer into .head() to see a different number of lines\n",
    "df.head()"
   ]
  },
  {
   "cell_type": "code",
   "execution_count": null,
   "id": "9eb799ca-b451-496c-8c08-131beee3496d",
   "metadata": {
    "scrolled": true
   },
   "outputs": [],
   "source": [
    "# Use `.tail()` to see the last five lines\n",
    "# Pass an integer into .tail() to see a different number lines\n",
    "df.tail()"
   ]
  },
  {
   "cell_type": "markdown",
   "id": "79992e88-6a6a-402f-aaed-309cf259d616",
   "metadata": {},
   "source": [
    "### Display More Rows or Columns with `.set_option()`\n",
    "By default, Pandas limits the number of rows and columns to display. If desired, we can increase or decrease the number to display. If your DataFrame has limited number of rows or columns, you may wish to show all of them."
   ]
  },
  {
   "cell_type": "code",
   "execution_count": null,
   "id": "817fef34-9023-4634-8534-f32654136a71",
   "metadata": {
    "scrolled": true
   },
   "outputs": [],
   "source": [
    "# Show all columns\n",
    "# Set `None` to an integer to show a set number\n",
    "pd.set_option('display.max_columns', None)\n",
    "\n",
    "# Show all rows\n",
    "# Set `None` to an integer to show a set number\n",
    "# Be careful if your dataset is millions of lines long!\n",
    "pd.set_option('display.max_rows', None)"
   ]
  },
  {
   "cell_type": "markdown",
   "id": "f9a068bc-da53-4ce7-876f-a3abed7d7a60",
   "metadata": {},
   "source": [
    "### Change Column Names with `.columns`\n",
    "We can change the column names with the `.columns` attribute."
   ]
  },
  {
   "cell_type": "code",
   "execution_count": null,
   "id": "c34b2b5d-2720-40cf-9f2b-5044afd7d58a",
   "metadata": {
    "scrolled": true
   },
   "outputs": [],
   "source": [
    "# Updating all column names at once\n",
    "df.columns = ['email', 'Identifier', 'First name', 'Last name']\n",
    "df"
   ]
  },
  {
   "cell_type": "markdown",
   "id": "61c08d21-1cfa-4d03-a925-f9cef8f78fce",
   "metadata": {},
   "source": [
    "We can also use the `.rename()` method to change the name of a single given column name."
   ]
  },
  {
   "cell_type": "code",
   "execution_count": null,
   "id": "fc388682-7e7e-4d9d-a72c-d6bc3bf4b8b7",
   "metadata": {
    "scrolled": false
   },
   "outputs": [],
   "source": [
    "# Updating a single column name\n",
    "df = df.rename(columns={'email': 'Login email'})\n",
    "df"
   ]
  },
  {
   "cell_type": "markdown",
   "id": "85c71696-2f84-473c-8085-0e638762ba37",
   "metadata": {},
   "source": [
    "### An important note on previewing and permanent changes in Pandas\n",
    "\n",
    "In order to make our changes stick, we had to use an assignment statement:\n",
    "`df = df.rename(columns={'email': 'Login email'})`\n",
    "If we had just written:\n",
    "`df.rename(columns={'email': 'Login email'})` \n",
    "Pandas would preview the change but not actually change the dataframe. The assignment statement tells Pandas we  we want the change to permanently change the dataframe. \n",
    "\n",
    "There is no \"undo\" when making a change to a Pandas dataframe, so it is a good idea to always preview changes before committing them to an assignment statement. **Always back up your data so a dataframe manipulation mistake will not ruin your data.**\n",
    "\n",
    "#### An alternative way to permanently change a dataframe\n",
    "There is another alternative for making permanent changes. You can pass the argument `inplace=True` without using an assignment statement. We do not recommend this as a good practice, and it is possible it may be removed in the future. We mention it here, however, since it may appear in other code you find."
   ]
  },
  {
   "cell_type": "code",
   "execution_count": null,
   "id": "c32475ab-da80-48e8-ba51-0751e2569c99",
   "metadata": {
    "scrolled": true
   },
   "outputs": [],
   "source": [
    "# Updating a single column name using `inplace=True`\n",
    "df.rename(columns={'email': 'email'}, inplace=True)\n",
    "df"
   ]
  },
  {
   "cell_type": "markdown",
   "id": "2eb3a106-755f-4e07-8795-4192f50270c8",
   "metadata": {},
   "source": [
    "### Reset the Index\n",
    "\n",
    "When we created the dataframe, we used the `index_col` attribute to set the index column to the `Username` column:\n",
    "\n",
    "```df = pd.read_csv('data/sample2.csv', index_col='Username')```\n",
    "\n",
    "We could reset the index to a numerical index starting at 0 using the `.reset_index()` method."
   ]
  },
  {
   "cell_type": "code",
   "execution_count": null,
   "id": "e69d38c8-9077-4b94-a547-a02ac05a6028",
   "metadata": {
    "scrolled": false
   },
   "outputs": [],
   "source": [
    "# Change the dataframe to a numerical index\n",
    "df = df.reset_index()\n",
    "df"
   ]
  },
  {
   "cell_type": "markdown",
   "id": "2db5c9ee-4eb7-4e6f-85e3-1b36045a6328",
   "metadata": {},
   "source": [
    "### Set the Index with `.set_index()`\n",
    "We can change the index to a different column with the `.set_index()` method. The `.set_index()` method will drop the current index, so it is always recommended to use `reset_index()` first if you want to keep the data currently in the index as a column. If you accidentally delete a column, load the dataframe back in from the original CSV file. If you need to delete a column, you can use: `df.drop('column_name', axis=1)`."
   ]
  },
  {
   "cell_type": "code",
   "execution_count": null,
   "id": "722c62a1-377c-4d45-8bb4-c3b17b430d91",
   "metadata": {
    "scrolled": false
   },
   "outputs": [],
   "source": [
    "# Change the index back to a numerical index\n",
    "# Then assign a new index (dropping the numerical index)\n",
    "df = df.set_index('Username')\n",
    "df"
   ]
  },
  {
   "cell_type": "markdown",
   "id": "f2d036e3-ea1f-4a09-8226-22f76a4c2dd7",
   "metadata": {},
   "source": [
    "### Sorting the Index\n",
    "\n",
    "We can sort the index by using the `.sort_index()` method."
   ]
  },
  {
   "cell_type": "code",
   "execution_count": null,
   "id": "29c9744f-5044-4c37-8664-b98eb9096c24",
   "metadata": {
    "scrolled": false
   },
   "outputs": [],
   "source": [
    "# Sort the DataFrame by ascending order\n",
    "df.sort_index()"
   ]
  },
  {
   "cell_type": "markdown",
   "id": "9659f6da-ab2b-466a-a88f-ec52bad7c109",
   "metadata": {},
   "source": [
    "To sort the index in descending order, pass the argument `ascending=False`."
   ]
  },
  {
   "cell_type": "code",
   "execution_count": null,
   "id": "fb79f6b1-af09-4900-a1f2-d32392275347",
   "metadata": {
    "scrolled": true
   },
   "outputs": [],
   "source": [
    "# Sort the DataFrame by descending order\n",
    "df.sort_index(ascending=False)"
   ]
  },
  {
   "cell_type": "markdown",
   "id": "a483ed47-a0f3-4158-9551-fc6e00949a7b",
   "metadata": {},
   "source": [
    "### `.loc[]` and `.iloc[]` Selection\n",
    "\n",
    "Like a Series, DataFrames can use the `.iloc[]` and `.loc[]` methods for selection. To select a particular element, we need to supply a row *and* a column."
   ]
  },
  {
   "cell_type": "code",
   "execution_count": null,
   "id": "2ac1eea5-3ec5-425c-83be-82a7b1530bb7",
   "metadata": {
    "scrolled": false
   },
   "outputs": [],
   "source": [
    "# View our DataFrame for reference\n",
    "df"
   ]
  },
  {
   "cell_type": "markdown",
   "id": "e64d388d-36e6-463b-a80a-360835f19c6e",
   "metadata": {},
   "source": [
    "When we use index numbers with `.iloc[]`, the column names and index column—written in bold the DataFrame preview above—are not counted."
   ]
  },
  {
   "cell_type": "code",
   "execution_count": null,
   "id": "bf0588e1-38fd-49e7-8032-9aaa7aa24fe8",
   "metadata": {
    "scrolled": false
   },
   "outputs": [],
   "source": [
    "# Return the value for the specified row and column\n",
    "# based on index numbers. The index column names\n",
    "df.iloc[1, 3]"
   ]
  },
  {
   "cell_type": "markdown",
   "id": "9e784856-f619-4073-a936-f6b7ad7cc570",
   "metadata": {},
   "source": [
    "When we use index names with `.loc[]`, we need to supply the row name and the column name to select a single element. "
   ]
  },
  {
   "cell_type": "code",
   "execution_count": null,
   "id": "f8d9245b-2d74-471e-a347-ee015742e6de",
   "metadata": {
    "scrolled": true
   },
   "outputs": [],
   "source": [
    "# Return the value for the specified row and column\n",
    "df.loc['booker12', 'First name']"
   ]
  },
  {
   "cell_type": "markdown",
   "id": "32711bb1-60f3-4af8-8e79-f8d83c0a7bd9",
   "metadata": {},
   "source": [
    "If we want to select an entire row of data, we pass in the row and a `:` for the column. The colon—without a start or stop specified—creates a slice that contains every column."
   ]
  },
  {
   "cell_type": "code",
   "execution_count": null,
   "id": "cd7622f0-e862-49f5-8906-fa4fa7c23243",
   "metadata": {
    "scrolled": true
   },
   "outputs": [],
   "source": [
    "# Select an entire row\n",
    "df.loc['redtree333', :]"
   ]
  },
  {
   "cell_type": "markdown",
   "id": "c2d9ff08-b976-420d-9b15-a5182a26fbda",
   "metadata": {},
   "source": [
    "Technically, we could also use: `df.loc['redtree333']` for the same result, but including the `, :` makes our row *and column* selection explicit."
   ]
  },
  {
   "cell_type": "code",
   "execution_count": null,
   "id": "3d88e9ed",
   "metadata": {
    "scrolled": true
   },
   "outputs": [],
   "source": [
    "# Select an entire row without a colon\n",
    "df.loc['redtree333']"
   ]
  },
  {
   "cell_type": "markdown",
   "id": "ac7bf097",
   "metadata": {},
   "source": [
    "If we select an entire column with `iloc[]`, the colon is required since the row selection comes before the column selection."
   ]
  },
  {
   "cell_type": "code",
   "execution_count": null,
   "id": "1c6ae8dd-a0a9-4c37-a481-bea4a27f0b3c",
   "metadata": {
    "scrolled": false
   },
   "outputs": [],
   "source": [
    "# Select an entire column with `.loc[]`\n",
    "df.loc[:, 'Login email']"
   ]
  },
  {
   "cell_type": "markdown",
   "id": "1049efa5-e15e-4075-bc68-ac0a289fdc4d",
   "metadata": {},
   "source": [
    "We can select columns in a more compact way without using `.iloc[]`. Passing the column name into `df[]` will return the full column."
   ]
  },
  {
   "cell_type": "code",
   "execution_count": null,
   "id": "07723f54-d90e-4015-84f7-039ab8af4f6d",
   "metadata": {
    "scrolled": true
   },
   "outputs": [],
   "source": [
    "# A shorter way to select a column without using `.loc[]`\n",
    "# This only works with columns and returns a Series \n",
    "df['Login email']"
   ]
  },
  {
   "cell_type": "markdown",
   "id": "b13714e0-7ab3-4550-9d17-b2d3b44981e8",
   "metadata": {},
   "source": [
    "As you might expect, we can use `:` to make a slice using `.iloc[]` or `.loc[]`. Try this below."
   ]
  },
  {
   "cell_type": "code",
   "execution_count": null,
   "id": "083547ab-f559-4287-b366-79a5c13e211c",
   "metadata": {
    "scrolled": true
   },
   "outputs": [],
   "source": [
    "# Slicing rows and columns using `.iloc`"
   ]
  },
  {
   "cell_type": "code",
   "execution_count": null,
   "id": "ae19e94b-c66d-4e81-a2a4-72fd28b59066",
   "metadata": {
    "scrolled": false
   },
   "outputs": [],
   "source": [
    "# Slicing rows and columns using `.loc`"
   ]
  },
  {
   "cell_type": "markdown",
   "id": "d9ab76dd-f0a9-4d96-a44d-1a450bc6c2c8",
   "metadata": {},
   "source": [
    "**As a quick reminder**, remember that `.iloc[]` slicing is not inclusive of the final value. On the other hand, `.loc[]` slicing does include the final value. "
   ]
  },
  {
   "cell_type": "markdown",
   "id": "e6a5adc2-04d7-4c22-b29b-0159e8a5c35f",
   "metadata": {},
   "source": [
    "### Boolean Expressions\n",
    "We can also use Boolean expressions to select based on the contents of the elements. We can use these expressions to create filters for selecting particular rows or columns.\n",
    "\n",
    "|Pandas Operator|Boolean|Requires|\n",
    "|---|---|---|\n",
    "|&|and|All required to `True`|\n",
    "|\\||or|If any are `True`|\n",
    "|~|not|The opposite|\n"
   ]
  },
  {
   "cell_type": "code",
   "execution_count": null,
   "id": "5691a4a0-2595-43bf-80e8-7fddbd7d4556",
   "metadata": {
    "scrolled": false
   },
   "outputs": [],
   "source": [
    "df"
   ]
  },
  {
   "cell_type": "code",
   "execution_count": null,
   "id": "16ed760c-c1b9-4165-8a99-38135d946072",
   "metadata": {
    "scrolled": false
   },
   "outputs": [],
   "source": [
    "# Return a Truth Table for every row\n",
    "# where the Identifier is over 4000\n",
    "df['Identifier'] > 4000\n",
    "\n",
    "# The output is the same as\n",
    "#df.loc[:, 'Identifier'] > 4000"
   ]
  },
  {
   "cell_type": "markdown",
   "id": "f888134f-e31a-44bf-b0b3-7534f54b4eaa",
   "metadata": {},
   "source": [
    "We can store this expression in a variable to filter the dataframe using `.loc[]`. "
   ]
  },
  {
   "cell_type": "code",
   "execution_count": null,
   "id": "5a289c38-08c9-420e-91ba-11fc80c2d26e",
   "metadata": {
    "scrolled": false
   },
   "outputs": [],
   "source": [
    "# Put the expression from above into a variable\n",
    "id_filter = df['Identifier'] > 4000\n",
    "\n",
    "# Return all the rows where the expression is true\n",
    "df.loc[id_filter]\n",
    "\n",
    "# The output is also the same as\n",
    "#df.loc[id_filter, :]"
   ]
  },
  {
   "cell_type": "markdown",
   "id": "b77159a8-09c1-4e9f-8984-541a00f1a7c9",
   "metadata": {},
   "source": [
    "Try using a similar approach to find every person with the last name \"Smith.\""
   ]
  },
  {
   "cell_type": "code",
   "execution_count": null,
   "id": "c2e7034c-45e5-49a4-8f12-dac408803aee",
   "metadata": {
    "scrolled": false
   },
   "outputs": [],
   "source": [
    "# Preview every row with Last name of \"Smith\"\n"
   ]
  },
  {
   "cell_type": "markdown",
   "id": "35604cee-c328-454a-8a29-7abc5891c6e9",
   "metadata": {},
   "source": [
    "If we were looking for \"Jamie Smith\" we could create a filter that specifies the first and last name."
   ]
  },
  {
   "cell_type": "code",
   "execution_count": null,
   "id": "ba898273-8b49-49af-a9f3-4b6bd792d555",
   "metadata": {
    "scrolled": true
   },
   "outputs": [],
   "source": [
    "# Preview every row with the first name Jamie and last name Smith\n",
    "# You will need to use the & operator in your filter variable\n"
   ]
  },
  {
   "cell_type": "code",
   "execution_count": null,
   "id": "2af1d700-8b37-450d-85b7-d26d26eb358c",
   "metadata": {
    "scrolled": false
   },
   "outputs": [],
   "source": [
    "# Find every row with Last Name not `Smith`\n"
   ]
  },
  {
   "cell_type": "markdown",
   "id": "80434bea-58f1-41d6-a77f-f72ae852188a",
   "metadata": {},
   "source": [
    "### Changing a Value in the DataFrame\n",
    "\n",
    "A single element can be changed with an initialization statement using `.loc[]`."
   ]
  },
  {
   "cell_type": "code",
   "execution_count": null,
   "id": "7c023126-7dee-47fb-ac2e-e3956c45d34d",
   "metadata": {
    "scrolled": true
   },
   "outputs": [],
   "source": [
    "# Change a single value using `.loc[]`\n",
    "df.loc['jenkins46', 'First name'] = 'Mark'\n",
    "df"
   ]
  },
  {
   "cell_type": "markdown",
   "id": "5e47958e",
   "metadata": {},
   "source": [
    "### Removing Rows or Columns"
   ]
  },
  {
   "cell_type": "markdown",
   "id": "53148d80-c2e2-4e41-8fdd-238bae2e9446",
   "metadata": {},
   "source": [
    "We can use filters to make more widespread changes. For example, we could filter out certain rows based on what is contained in those rows."
   ]
  },
  {
   "cell_type": "code",
   "execution_count": null,
   "id": "50b03b3b-f933-4447-9ecf-66da9ac76d0d",
   "metadata": {
    "scrolled": false
   },
   "outputs": [],
   "source": [
    "# Remove all rows where the identifier is less than 7000\n",
    "# Create a filter variable\n",
    "id_filter = df['Identifier'] > 7000\n",
    "\n",
    "# Create a new dataframe based on the old dataframe with the filter applied\n",
    "filtered_df = df[id_filter]\n",
    "\n",
    "# Preview the new dataframe\n",
    "filtered_df\n",
    "\n",
    "# Optionally, overwrite the old dataframe\n",
    "# df = filtered_df"
   ]
  },
  {
   "cell_type": "markdown",
   "id": "27834a81",
   "metadata": {},
   "source": [
    "To drop particular rows, we can also use the `.drop()` method which accepts either a string or a Python list. We must pass the parameter `axis=1` to indicate we are dropping rows."
   ]
  },
  {
   "cell_type": "code",
   "execution_count": null,
   "id": "47a3313a",
   "metadata": {
    "scrolled": true
   },
   "outputs": [],
   "source": [
    "# Preview dropping the given column from the dataframe\n",
    "df.drop('Login email', axis=1)"
   ]
  },
  {
   "cell_type": "markdown",
   "id": "f63d1f24",
   "metadata": {},
   "source": [
    "We can use the same technique to drop columns by specifying `axis=0`. Try this in the next code cell."
   ]
  },
  {
   "cell_type": "code",
   "execution_count": null,
   "id": "8455c190",
   "metadata": {
    "scrolled": false
   },
   "outputs": [],
   "source": [
    "# Preview dropping a row from the dataframe"
   ]
  },
  {
   "cell_type": "markdown",
   "id": "13cd6d41",
   "metadata": {},
   "source": [
    "### Drop Rows with Missing Data with `.dropna()`\n",
    "\n",
    "Removing Rows Without Data with `.dropna()`\n",
    "We can remove rows without data by using the `.dropna` method. We must pass a Python list of rows to drop for the `subset` parameter."
   ]
  },
  {
   "cell_type": "code",
   "execution_count": null,
   "id": "ae852b24",
   "metadata": {
    "scrolled": true
   },
   "outputs": [],
   "source": [
    "# Remove all rows without a `Login email` using `.dropna()`\n",
    "df.dropna(subset=['Login email'])"
   ]
  },
  {
   "cell_type": "markdown",
   "id": "5b3b4e89",
   "metadata": {},
   "source": [
    "To see more options for dropping rows or columns without data, check out the [pandas documentation](https://pandas.pydata.org/docs/reference/api/pandas.DataFrame.dropna.html)."
   ]
  },
  {
   "cell_type": "markdown",
   "id": "9c4e3f5d-b297-4403-9f2d-67d732e13db2",
   "metadata": {},
   "source": [
    "### Summary of Pandas DataFrames\n",
    "\n",
    "* A DataFrame has multiple rows and columns\n",
    "* Use attributes along with `.head()` and `.tail()` to explore the DataFrame\n",
    "* Use `.iloc[]` and `.loc[]` to select an column, row, or element\n",
    "* Filters and Boolean Operators can be powerful selectors\n",
    "* Use an initialization statement to change one or many elements\n",
    "* Drop selected rows or columns with `.drop()`\n",
    "* Drop rows without data using `.dropna()`\n",
    "___\n",
    "Learn about apply, map, and replace with Pandas DataFrames in [Pandas 3 ->](./pandas-3.ipynb)"
   ]
  }
 ],
 "metadata": {
  "kernelspec": {
   "display_name": "Python 3",
   "language": "python",
   "name": "python3"
  },
  "language_info": {
   "codemirror_mode": {
    "name": "ipython",
    "version": 3
   },
   "file_extension": ".py",
   "mimetype": "text/x-python",
   "name": "python",
   "nbconvert_exporter": "python",
   "pygments_lexer": "ipython3",
   "version": "3.8.8"
  },
  "toc": {
   "base_numbering": 1,
   "nav_menu": {},
   "number_sections": true,
   "sideBar": true,
   "skip_h1_title": true,
   "title_cell": "Table of Contents",
   "title_sidebar": "Contents",
   "toc_cell": false,
   "toc_position": {},
   "toc_section_display": true,
   "toc_window_display": false
  }
 },
 "nbformat": 4,
 "nbformat_minor": 5
}

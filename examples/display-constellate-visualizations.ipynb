{
 "cells": [
  {
   "cell_type": "markdown",
   "id": "af04f9ab",
   "metadata": {},
   "source": [
    "## Displaying Constellate visualizations in a notebook\n",
    "\n",
    "This notebook demonstrates how to use the Constellate client library to generate visualizations that match the Constellate web application. \n",
    "\n",
    "First, import the constellate client charting module."
   ]
  },
  {
   "cell_type": "code",
   "execution_count": null,
   "id": "2e8cb6c8",
   "metadata": {
    "scrolled": true
   },
   "outputs": [],
   "source": [
    "from constellate import charts"
   ]
  },
  {
   "cell_type": "markdown",
   "id": "65d59a5f",
   "metadata": {},
   "source": [
    "Display the documentation from the client library that demonstrates the different ways visualizations can be embedded in a notebook. "
   ]
  },
  {
   "cell_type": "code",
   "execution_count": null,
   "id": "194ae79a",
   "metadata": {},
   "outputs": [],
   "source": [
    "charts?"
   ]
  },
  {
   "cell_type": "markdown",
   "id": "c874b301",
   "metadata": {},
   "source": [
    "Create a sample query using the [Constellate search syntax](https://constellate.org/docs/constellate-search-syntax). A dataset id can also be used. Simply replace the q variable here with a dataset id. \n",
    "\n",
    "[Capsaicin](https://en.wikipedia.org/wiki/Capsaicin) is chemical compound found in chilli peppers. It plays an important role in the research of the [2021 Nobel Prize in Medicine](https://www.nobelprize.org/prizes/medicine/2021/press-release/), David Julius and Ardem Patapoutian. "
   ]
  },
  {
   "cell_type": "code",
   "execution_count": null,
   "id": "a9b82453",
   "metadata": {},
   "outputs": [],
   "source": [
    "q = {\"keyword\": \"capsaicin\", \"start\": 1971}"
   ]
  },
  {
   "cell_type": "markdown",
   "id": "9d7379c1",
   "metadata": {},
   "source": [
    "Display a bar plot showing the documents over time matching the query. "
   ]
  },
  {
   "cell_type": "code",
   "execution_count": null,
   "id": "6e790c78",
   "metadata": {
    "scrolled": true
   },
   "outputs": [],
   "source": [
    "charts.documents_over_time(q)"
   ]
  },
  {
   "cell_type": "markdown",
   "id": "3d28ec62",
   "metadata": {},
   "source": [
    "Display a word bubble visualation of significant key phrases. This plot is interactive. Click on a bubble."
   ]
  },
  {
   "cell_type": "code",
   "execution_count": null,
   "id": "5196a63d",
   "metadata": {},
   "outputs": [],
   "source": [
    "charts.keyphrases(q)"
   ]
  },
  {
   "cell_type": "markdown",
   "id": "4b34bf2d",
   "metadata": {},
   "source": [
    "Display a line plot showing document categories over time. "
   ]
  },
  {
   "cell_type": "code",
   "execution_count": null,
   "id": "6cf76d07",
   "metadata": {
    "scrolled": false
   },
   "outputs": [],
   "source": [
    "charts.categories_over_time(q)"
   ]
  },
  {
   "cell_type": "markdown",
   "id": "efb367b0",
   "metadata": {},
   "source": [
    "Plot the occurrence of terms over time. You can also use the input box to change the terms after the plot is rendered."
   ]
  },
  {
   "cell_type": "code",
   "execution_count": null,
   "id": "298a0adc",
   "metadata": {},
   "outputs": [],
   "source": [
    "charts.term_frequency(q, terms=[\"julius\", \"patapoutian\"])"
   ]
  },
  {
   "cell_type": "markdown",
   "id": "c7e71fea",
   "metadata": {},
   "source": [
    "A word cloud of keyphrases is also available, although currently not available in the Constellate application. "
   ]
  },
  {
   "cell_type": "code",
   "execution_count": null,
   "id": "7d7d1811",
   "metadata": {},
   "outputs": [],
   "source": [
    "charts.word_cloud(q)"
   ]
  }
 ],
 "metadata": {
  "kernelspec": {
   "display_name": "Python 3",
   "language": "python",
   "name": "python3"
  },
  "language_info": {
   "codemirror_mode": {
    "name": "ipython",
    "version": 3
   },
   "file_extension": ".py",
   "mimetype": "text/x-python",
   "name": "python",
   "nbconvert_exporter": "python",
   "pygments_lexer": "ipython3",
   "version": "3.8.8"
  },
  "toc": {
   "base_numbering": 1,
   "nav_menu": {},
   "number_sections": true,
   "sideBar": true,
   "skip_h1_title": false,
   "title_cell": "Table of Contents",
   "title_sidebar": "Contents",
   "toc_cell": false,
   "toc_position": {},
   "toc_section_display": true,
   "toc_window_display": false
  }
 },
 "nbformat": 4,
 "nbformat_minor": 5
}

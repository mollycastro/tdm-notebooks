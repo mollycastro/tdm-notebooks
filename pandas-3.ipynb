{
 "cells": [
  {
   "cell_type": "markdown",
   "id": "3fac83f3-4536-4584-870a-6bcfec93ea68",
   "metadata": {},
   "source": [
    "<img align=\"left\" src=\"https://ithaka-labs.s3.amazonaws.com/static-files/images/tdm/tdmdocs/CC_BY.png\"><br />\n",
    "\n",
    "Created by [Nathan Kelber](http://nkelber.com) under [Creative Commons CC BY License](https://creativecommons.org/licenses/by/4.0/)<br />\n",
    "For questions/comments/improvements, email nathan.kelber@ithaka.org.<br />\n",
    "___"
   ]
  },
  {
   "cell_type": "markdown",
   "id": "7bbef364-f331-462d-96f1-4cd736b4dcec",
   "metadata": {},
   "source": [
    "# Pandas 3 (Draft only)\n",
    "\n",
    "**Description:** This notebook describes how to:\n",
    "\n",
    "\n",
    "This is the third notebook in a series on learning to use Pandas. \n",
    "\n",
    "**Use Case:** For Learners (Detailed explanation, not ideal for researchers)\n",
    "\n",
    "**Difficulty:** Intermediate\n",
    "\n",
    "**Knowledge Required:** \n",
    "* [Pandas 1](./pandas-1.ipynb)\n",
    "* [Pandas 2](./pandas-2.ipynb)\n",
    "* Python Basics ([Start Python Basics I](./python-basics-1.ipynb))\n",
    "\n",
    "**Knowledge Recommended:** \n",
    "* [Working with Dataset Files](./working-with-dataset-files.ipynb)\n",
    "\n",
    "**Completion Time:** 75 minutes\n",
    "\n",
    "**Data Format:** CSV (.csv)\n",
    "\n",
    "**Libraries Used:** Pandas\n",
    "\n",
    "**Research Pipeline:** None\n",
    "___\n"
   ]
  },
  {
   "cell_type": "code",
   "execution_count": null,
   "id": "55be926a-a92d-4fab-9585-601058acd2e9",
   "metadata": {},
   "outputs": [],
   "source": [
    "# Create a string filter that checks for email addresses containing\n",
    "# 'example.com'. For missing (na) elements, output `False` instead of NaN.\n",
    "email_filt = df['Login email'].str.contains('example.com', na=False)\n",
    "email_filt"
   ]
  },
  {
   "cell_type": "code",
   "execution_count": null,
   "id": "4e4e0a8c-9629-4105-a02b-fb4dfd77cc00",
   "metadata": {},
   "outputs": [],
   "source": [
    "# Re-Initialize `df` without the users with no email address\n",
    "df = df[email_filt]\n",
    "df"
   ]
  },
  {
   "cell_type": "markdown",
   "id": "d34049fb-0c30-4d98-b92c-6221fb31988f",
   "metadata": {},
   "source": [
    "### Dropping Rows Without Data\n",
    "There is also a `.dropna()` method specifically for dropping rows without data"
   ]
  },
  {
   "cell_type": "code",
   "execution_count": null,
   "id": "938d40ab-0e3f-455c-9f91-56b11faab463",
   "metadata": {},
   "outputs": [],
   "source": [
    "# Recreate the DataFrame `df` from the CSV file 'sample2.csv'\n",
    "df = pd.read_csv('data/sample2.csv', index_col='Username')\n",
    "df # Confirm the NaN fields have returned"
   ]
  },
  {
   "cell_type": "code",
   "execution_count": null,
   "id": "94897e07-4e39-47e5-a9f6-e23e9cd530e4",
   "metadata": {},
   "outputs": [],
   "source": [
    "# Remove all rows without a `Login email` using `.dropna()`\n",
    "df = df.dropna(subset=['Login email'])\n",
    "df # Confirm the fields were dropped"
   ]
  },
  {
   "cell_type": "code",
   "execution_count": null,
   "id": "9c546eba-87c0-4e26-8100-89b62341e2b9",
   "metadata": {},
   "outputs": [],
   "source": [
    "#value_counts method\n",
    "df['column_name'].value_counts()"
   ]
  },
  {
   "cell_type": "code",
   "execution_count": null,
   "id": "81a87be1-5be5-4573-b538-b6a95637a3c7",
   "metadata": {},
   "outputs": [],
   "source": [
    "#filtering by using .isin()\n",
    "countries = ['usa', 'germany', 'mexico']\n",
    "filt = df['Country'].isin(countries)"
   ]
  },
  {
   "cell_type": "code",
   "execution_count": null,
   "id": "38617f6d-67e3-4c95-8791-b730ed46b2cb",
   "metadata": {},
   "outputs": [],
   "source": [
    "#filtering by using .str.contains\n",
    "filt = df['language'].str.contains('Python', na=False)\n",
    "df.loc[filt]"
   ]
  },
  {
   "cell_type": "code",
   "execution_count": null,
   "id": "baf7f970-a92c-4d8b-893b-2ec02250beac",
   "metadata": {},
   "outputs": [],
   "source": [
    "#lowercase all the row values in a column\n",
    "df['email'] = df['email'].str.lower()"
   ]
  },
  {
   "cell_type": "code",
   "execution_count": null,
   "id": "31022f10-178e-456b-b350-bb282a48b568",
   "metadata": {},
   "outputs": [],
   "source": [
    "#apply, map, applymap, replace\n"
   ]
  }
 ],
 "metadata": {
  "kernelspec": {
   "display_name": "Python 3 (ipykernel)",
   "language": "python",
   "name": "python3"
  },
  "language_info": {
   "codemirror_mode": {
    "name": "ipython",
    "version": 3
   },
   "file_extension": ".py",
   "mimetype": "text/x-python",
   "name": "python",
   "nbconvert_exporter": "python",
   "pygments_lexer": "ipython3",
   "version": "3.8.8"
  },
  "toc": {
   "base_numbering": 1,
   "nav_menu": {},
   "number_sections": true,
   "sideBar": true,
   "skip_h1_title": false,
   "title_cell": "Table of Contents",
   "title_sidebar": "Contents",
   "toc_cell": false,
   "toc_position": {},
   "toc_section_display": true,
   "toc_window_display": false
  }
 },
 "nbformat": 4,
 "nbformat_minor": 5
}
